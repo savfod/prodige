{
 "cells": [
  {
   "cell_type": "markdown",
   "metadata": {},
   "source": [
    "__This notebook__ compares PCA, MDS and Probabilistic Differentiable Graph Embeddings for the task of isometric compression"
   ]
  },
  {
   "cell_type": "code",
   "execution_count": 1,
   "metadata": {},
   "outputs": [],
   "source": [
    "%load_ext autoreload\n",
    "%autoreload 2\n",
    "import sys\n",
    "sys.path.insert(0, \"..\")\n",
    "import lib\n",
    "import numpy as np\n",
    "import torch, torch.nn as nn\n",
    "import torch.nn.functional as F\n",
    "import matplotlib.pyplot as plt\n",
    "%matplotlib inline\n",
    "from tqdm import trange\n",
    "from IPython.display import clear_output\n",
    "from gensim.downloader import load, info\n",
    "\n",
    "glove = load('glove-wiki-gigaword-300')\n",
    "words = sorted(glove.vocab.keys(), key=lambda w: glove.vocab[w].index)[:10000]\n",
    "X = glove[words].astype('float32')\n",
    "X = X / np.square(X).sum(-1, keepdims=True) ** 0.5"
   ]
  },
  {
   "cell_type": "code",
   "execution_count": 2,
   "metadata": {},
   "outputs": [],
   "source": [
    "from lib.task.compression import make_graph_from_vectors\n",
    "emb = make_graph_from_vectors(\n",
    "        X, knn_edges=64, random_edges=32, squared=False,\n",
    "        max_length=10, n_jobs=-1, soft=True, k_nearest=0, directed=False\n",
    ")\n",
    "\n",
    "loss_history, reg_history = [], []\n",
    "batch_size = 256\n",
    "opt = None\n",
    "total_edges = emb.num_edges\n",
    "stage = 0\n",
    "\n",
    "def update_learning_rate():\n",
    "    t = len(loss_history)\n",
    "    global opt, stage, emb, batch_size\n",
    "    \n",
    "    if stage == 0:\n",
    "        opt = torch.optim.SparseAdam(emb.parameters(), lr=0.1)\n",
    "        stage += 1\n",
    "        \n",
    "    if stage == 1 and t >= 3000:\n",
    "        emb = emb.pruned(threshold=0.5)\n",
    "        opt = torch.optim.SparseAdam(emb.parameters(), lr=0.05)\n",
    "        stage += 1\n",
    "    \n",
    "    if stage == 2 and t >= 10000:\n",
    "        emb = emb.pruned(threshold=0.5)\n",
    "        opt = torch.optim.SparseAdam(emb.parameters(), lr=0.01)\n",
    "        stage += 1\n"
   ]
  },
  {
   "cell_type": "code",
   "execution_count": 3,
   "metadata": {},
   "outputs": [
    {
     "name": "stderr",
     "output_type": "stream",
     "text": [
      "100%|██████████| 40/40 [03:11<00:00,  3.17s/it]\n"
     ]
    }
   ],
   "source": [
    "# pre-compute reference distances\n",
    "distances = np.concatenate([\n",
    "    np.square(X[None, :, :] - X[batch_start: batch_start + batch_size, None, :]).sum(-1) ** 0.5\n",
    "    for batch_start in trange(0, len(X), batch_size)\n",
    "])\n",
    "# ^-- replacing cosine with squared l2 distance because\n",
    "# |x - y|_2^2 = |x|_2^2 + |y|_2^2- 2 * <x, y> and |x| = |y| = 1"
   ]
  },
  {
   "cell_type": "markdown",
   "metadata": {},
   "source": [
    "### Training loop"
   ]
  },
  {
   "cell_type": "code",
   "execution_count": null,
   "metadata": {},
   "outputs": [
    {
     "data": {
      "image/png": "[encoded data removed]",
      "text/plain": [
       "<Figure size 1080x288 with 3 Axes>"
      ]
     },
     "metadata": {},
     "output_type": "display_data"
    },
    {
     "name": "stdout",
     "output_type": "stream",
     "text": [
      "................................"
     ]
    }
   ],
   "source": [
    "for batch_i in range(len(loss_history), 100000):\n",
    "    print(end='.')\n",
    "    update_learning_rate()\n",
    "    ii = torch.randint(0, len(X), [batch_size])\n",
    "    jj = torch.randint(0, len(X), [batch_size])\n",
    "    \n",
    "    pred = emb(ii, jj)\n",
    "    distances_ref = torch.as_tensor(distances[ii, jj], dtype=torch.float32)\n",
    "    \n",
    "    reconstruction_mse = F.mse_loss(pred['target_distances'], distances_ref)\n",
    "    regularizer = emb.compute_l0_prior_penalty(batch_size=4096)\n",
    "    \n",
    "    lambd = min(1, len(loss_history) / 10000.) * (emb.num_edges / total_edges) * 10.0\n",
    "    loss = reconstruction_mse - pred['logp_target_paths'].mean() + lambd * regularizer\n",
    "            \n",
    "    opt.zero_grad()\n",
    "    loss.backward()\n",
    "    opt.step()\n",
    "    loss_history.append(reconstruction_mse.item())\n",
    "    reg_history.append(regularizer.item())\n",
    "    \n",
    "    if len(loss_history) % 50 == 0:\n",
    "        clear_output(True)\n",
    "        plt.figure(figsize=[15, 4])\n",
    "        plt.subplot(1, 3, 1);\n",
    "        plt.title('reconstruction mse, mean = %0.5f' % np.mean(loss_history[-100:])); plt.grid()\n",
    "        plt.plot(loss_history)\n",
    "        \n",
    "        plt.subplot(1, 3, 2);\n",
    "        plt.title('regularizer, mean = %0.5f' % np.mean(reg_history[-100:])); plt.grid()\n",
    "        plt.plot(reg_history)\n",
    "\n",
    "        plt.subplot(1, 3, 3);\n",
    "        probs = torch.sigmoid(emb.edge_adjacency_logits).data.numpy().ravel()\n",
    "        plt.title('P(edge), nonzero rate = %.5f' % (np.sum(probs > 0.5) / total_edges))\n",
    "        plt.grid();\n",
    "        plt.hist(probs)\n",
    "        plt.show()\n",
    "\n",
    "# batch/s rate will increase at 5k and 10k steps"
   ]
  },
  {
   "cell_type": "code",
   "execution_count": 4,
   "metadata": {},
   "outputs": [
    {
     "name": "stdout",
     "output_type": "stream",
     "text": [
      "params per vertex = 3.9642\n"
     ]
    }
   ],
   "source": [
    "print(\"params per vertex = %.4f\" % (emb.report_model_size()['num_parameters'] / len(X)))"
   ]
  },
  {
   "cell_type": "code",
   "execution_count": 5,
   "metadata": {},
   "outputs": [],
   "source": [
    "distances_ours = emb.compute_pairwise_distances()"
   ]
  },
  {
   "cell_type": "markdown",
   "metadata": {},
   "source": [
    "### Baselines:\n",
    "\n",
    "We train two other common compression methods as our baselines:\n",
    "* __PCA:__ Principial Component Analysis learns to project data onto lower dimensional space in a way that captures as much variance as possible. This method is considered a __weak__ baseline as it does not minimize the target metric.\n",
    "* __MDS:__ Multidimensional Scaling solves the same optimization problem as our method, but in a vector space. We expect this method to outperform PCA given the same number of components."
   ]
  },
  {
   "cell_type": "code",
   "execution_count": 6,
   "metadata": {},
   "outputs": [],
   "source": [
    "from sklearn.decomposition import PCA\n",
    "pca = PCA(n_components=4).fit(X)\n",
    "X_pca = pca.inverse_transform(pca.transform(X))\n",
    "distances_pca = np.concatenate([\n",
    "    np.square(X_pca[None, :, :] - X_pca[batch_start: batch_start + batch_size, None, :]).sum(-1) ** 0.5\n",
    "    for batch_start in range(0, len(X_pca), batch_size)\n",
    "])"
   ]
  },
  {
   "cell_type": "code",
   "execution_count": 7,
   "metadata": {},
   "outputs": [],
   "source": [
    "from sklearn.manifold import MDS\n",
    "mds = MDS(n_components=4, random_state=42, n_jobs=-1, dissimilarity='euclidean')\n",
    "X_mds = mds.fit_transform(X)\n",
    "distances_mds = np.square(X_mds[None, :, :] - X_mds[:, None, :]).sum(-1) ** 0.5"
   ]
  },
  {
   "cell_type": "code",
   "execution_count": 8,
   "metadata": {},
   "outputs": [
    {
     "name": "stdout",
     "output_type": "stream",
     "text": [
      "PCA:\t 0.84912\n",
      "MDS:\t 0.13142\n",
      "PRODIGE: 0.05289\n"
     ]
    }
   ],
   "source": [
    "print(\"PCA:\\t %.5f\" % np.mean(np.square(distances - distances_pca)))\n",
    "print(\"MDS:\\t %.5f\" % np.mean(np.square(distances - distances_mds)))\n",
    "print(\"PRODIGE: %.5f\" % np.mean(np.square(distances - distances_ours)))"
   ]
  },
  {
   "cell_type": "code",
   "execution_count": null,
   "metadata": {},
   "outputs": [],
   "source": []
  }
 ],
 "metadata": {
  "kernelspec": {
   "display_name": "Python 3",
   "language": "python",
   "name": "python3"
  },
  "language_info": {
   "codemirror_mode": {
    "name": "ipython",
    "version": 3
   },
   "file_extension": ".py",
   "mimetype": "text/x-python",
   "name": "python",
   "nbconvert_exporter": "python",
   "pygments_lexer": "ipython3",
   "version": "3.6.4"
  }
 },
 "nbformat": 4,
 "nbformat_minor": 2
}
